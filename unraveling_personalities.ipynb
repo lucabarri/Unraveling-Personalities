    "print(df['elapsed'][df['elapsed'] < 360].count()) # 360 seconds ≈ 6 min\n",
    "print(df['elapsed'][df['elapsed'] > 2400].count()) # 2400 seconds ≈ 40 min"
}
