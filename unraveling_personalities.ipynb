    "    X_std = (X - np.mean(X, axis=0)) / np.std(X, axis=0)\n",
=======
    "print(df['elapsed'][df['elapsed'] < 360].count()) # 360 seconds ≈ 6 min\n",
    "print(df['elapsed'][df['elapsed'] > 2400].count()) # 2400 seconds ≈ 40 min"
}