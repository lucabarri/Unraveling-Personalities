    "    X_std = (X - np.mean(X, axis=0)) / np.std(X, axis=0)\n",
